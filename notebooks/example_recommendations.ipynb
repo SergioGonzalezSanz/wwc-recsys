{
 "cells": [
  {
   "cell_type": "markdown",
   "metadata": {},
   "source": [
    "### Example shows how to use the recommendation library\n"
   ]
  },
  {
   "cell_type": "code",
   "execution_count": 1,
   "metadata": {
    "collapsed": true
   },
   "outputs": [],
   "source": [
    "#@todo fix this path issue\n",
    "import os\n",
    "os.chdir('..')\n",
    "#os.getcwd()"
   ]
  },
  {
   "cell_type": "code",
   "execution_count": 2,
   "metadata": {
    "collapsed": true
   },
   "outputs": [],
   "source": [
    "import pandas as pd\n",
    "import wwc_recsys.utils as utils\n",
    "import wwc_recsys.recommenders as recommenders"
   ]
  },
  {
   "cell_type": "code",
   "execution_count": 3,
   "metadata": {
    "collapsed": true
   },
   "outputs": [],
   "source": [
    "# Get the dataset folder. If the dataset is not download, it downloads it and unzips it\n",
    "datasets_folder = '/users/hcorona/github/WWC-recsys/data/'\n",
    "dataset_url = 'http://files.grouplens.org/datasets/movielens/ml-latest-small.zip'\n",
    "my_ratings_file = 'ratings_humberto.csv'\n",
    "[ratings, my_customer_number] = utils.merge_datasets(datasets_folder, dataset_url, my_ratings_file)"
   ]
  },
  {
   "cell_type": "code",
   "execution_count": 4,
   "metadata": {
    "collapsed": false
   },
   "outputs": [
    {
     "name": "stdout",
     "output_type": "stream",
     "text": [
      "Help on function recommend_iknn in module wwc_recsys.recommenders:\n",
      "\n",
      "recommend_iknn(ratings, target_customer, K=10, N=10, similarity_metric='pearson')\n",
      "    Give list of recommendations to a particular user\n",
      "    :param target_customer: user for which we want to compute recommendations\n",
      "    :param ratings: a dataframe with ratings\n",
      "    :param K: how many neigbhours to use in UK-NN algorithm\n",
      "    :param N: how many recommendations to output in top-N recommendations\n",
      "    :param similarity_metric: which similarity metric to use\n",
      "    :return: a dataframe with a list of recommendations and the predicted rating\n",
      "\n",
      "Help on function recommend_uknn in module wwc_recsys.recommenders:\n",
      "\n",
      "recommend_uknn(ratings, target_customer, K=10, N=10, similarity_metric='pearson')\n",
      "    Give list of recommendations to a particular user\n",
      "    :param target_customer: user for which we want to compute recommendations\n",
      "    :param ratings: a dataframe with ratings\n",
      "    :param K: how many neigbhours to use in UK-NN algorithm\n",
      "    :param N: how many recommendations to output in top-N recommendations\n",
      "    :param similarity_metric: which similarity metric to use\n",
      "    :return: a dataframe with a list of recommendations and the predicted rating\n",
      "\n"
     ]
    }
   ],
   "source": [
    "help(recommenders.recommend_iknn)\n",
    "help(recommenders.recommend_uknn)"
   ]
  },
  {
   "cell_type": "code",
   "execution_count": 5,
   "metadata": {
    "collapsed": false
   },
   "outputs": [
    {
     "data": {
      "text/html": [
       "<div>\n",
       "<table border=\"1\" class=\"dataframe\">\n",
       "  <thead>\n",
       "    <tr style=\"text-align: right;\">\n",
       "      <th></th>\n",
       "      <th>rating</th>\n",
       "      <th>movie</th>\n",
       "    </tr>\n",
       "  </thead>\n",
       "  <tbody>\n",
       "    <tr>\n",
       "      <th>0</th>\n",
       "      <td>5</td>\n",
       "      <td>Hanna (2011)</td>\n",
       "    </tr>\n",
       "    <tr>\n",
       "      <th>1</th>\n",
       "      <td>5</td>\n",
       "      <td>Forbidden Kingdom, The (2008)</td>\n",
       "    </tr>\n",
       "    <tr>\n",
       "      <th>2</th>\n",
       "      <td>5</td>\n",
       "      <td>Fido (2006)</td>\n",
       "    </tr>\n",
       "    <tr>\n",
       "      <th>3</th>\n",
       "      <td>5</td>\n",
       "      <td>Definitely, Maybe (2008)</td>\n",
       "    </tr>\n",
       "    <tr>\n",
       "      <th>4</th>\n",
       "      <td>5</td>\n",
       "      <td>Clerks II (2006)</td>\n",
       "    </tr>\n",
       "    <tr>\n",
       "      <th>5</th>\n",
       "      <td>5</td>\n",
       "      <td>Bound (1996)</td>\n",
       "    </tr>\n",
       "    <tr>\n",
       "      <th>6</th>\n",
       "      <td>5</td>\n",
       "      <td>Blackadder's Christmas Carol (1988)</td>\n",
       "    </tr>\n",
       "    <tr>\n",
       "      <th>7</th>\n",
       "      <td>5</td>\n",
       "      <td>Airheads (1994)</td>\n",
       "    </tr>\n",
       "    <tr>\n",
       "      <th>8</th>\n",
       "      <td>5</td>\n",
       "      <td>Accepted (2006)</td>\n",
       "    </tr>\n",
       "    <tr>\n",
       "      <th>9</th>\n",
       "      <td>5</td>\n",
       "      <td>White Sands (1992)</td>\n",
       "    </tr>\n",
       "  </tbody>\n",
       "</table>\n",
       "</div>"
      ],
      "text/plain": [
       "   rating                                movie\n",
       "0       5                         Hanna (2011)\n",
       "1       5        Forbidden Kingdom, The (2008)\n",
       "2       5                          Fido (2006)\n",
       "3       5             Definitely, Maybe (2008)\n",
       "4       5                     Clerks II (2006)\n",
       "5       5                         Bound (1996)\n",
       "6       5  Blackadder's Christmas Carol (1988)\n",
       "7       5                      Airheads (1994)\n",
       "8       5                      Accepted (2006)\n",
       "9       5                   White Sands (1992)"
      ]
     },
     "execution_count": 5,
     "metadata": {},
     "output_type": "execute_result"
    }
   ],
   "source": [
    "# get recommendations for a single user  (with default parameters)\n",
    "recommendations = recommenders.recommend_uknn(ratings, my_customer_number, K=20, similarity_metric='pearson')\n",
    "recommendations"
   ]
  },
  {
   "cell_type": "code",
   "execution_count": 6,
   "metadata": {
    "collapsed": false
   },
   "outputs": [
    {
     "data": {
      "text/html": [
       "<div>\n",
       "<table border=\"1\" class=\"dataframe\">\n",
       "  <thead>\n",
       "    <tr style=\"text-align: right;\">\n",
       "      <th></th>\n",
       "      <th>rating</th>\n",
       "      <th>movie</th>\n",
       "    </tr>\n",
       "  </thead>\n",
       "  <tbody>\n",
       "    <tr>\n",
       "      <th>0</th>\n",
       "      <td>5</td>\n",
       "      <td>Wreck-It Ralph (2012)</td>\n",
       "    </tr>\n",
       "    <tr>\n",
       "      <th>1</th>\n",
       "      <td>5</td>\n",
       "      <td>White Noise (2005)</td>\n",
       "    </tr>\n",
       "    <tr>\n",
       "      <th>2</th>\n",
       "      <td>5</td>\n",
       "      <td>White Material (2009)</td>\n",
       "    </tr>\n",
       "    <tr>\n",
       "      <th>3</th>\n",
       "      <td>5</td>\n",
       "      <td>Whatever Happened to Aunt Alice? (1969)</td>\n",
       "    </tr>\n",
       "    <tr>\n",
       "      <th>4</th>\n",
       "      <td>5</td>\n",
       "      <td>Watch, The (2012)</td>\n",
       "    </tr>\n",
       "    <tr>\n",
       "      <th>5</th>\n",
       "      <td>5</td>\n",
       "      <td>Waltz with Bashir (Vals im Bashir) (2008)</td>\n",
       "    </tr>\n",
       "    <tr>\n",
       "      <th>6</th>\n",
       "      <td>5</td>\n",
       "      <td>Vanishing on 7th Street (2010)</td>\n",
       "    </tr>\n",
       "    <tr>\n",
       "      <th>7</th>\n",
       "      <td>5</td>\n",
       "      <td>V/H/S/2 (2013)</td>\n",
       "    </tr>\n",
       "    <tr>\n",
       "      <th>8</th>\n",
       "      <td>5</td>\n",
       "      <td>V/H/S (2012)</td>\n",
       "    </tr>\n",
       "    <tr>\n",
       "      <th>9</th>\n",
       "      <td>5</td>\n",
       "      <td>Undertow (2004)</td>\n",
       "    </tr>\n",
       "  </tbody>\n",
       "</table>\n",
       "</div>"
      ],
      "text/plain": [
       "   rating                                      movie\n",
       "0       5                      Wreck-It Ralph (2012)\n",
       "1       5                         White Noise (2005)\n",
       "2       5                      White Material (2009)\n",
       "3       5    Whatever Happened to Aunt Alice? (1969)\n",
       "4       5                          Watch, The (2012)\n",
       "5       5  Waltz with Bashir (Vals im Bashir) (2008)\n",
       "6       5             Vanishing on 7th Street (2010)\n",
       "7       5                             V/H/S/2 (2013)\n",
       "8       5                               V/H/S (2012)\n",
       "9       5                            Undertow (2004)"
      ]
     },
     "execution_count": 6,
     "metadata": {},
     "output_type": "execute_result"
    }
   ],
   "source": [
    "# get recommendations for a single user  (with default parameters)\n",
    "recommendations = recommenders.recommend_iknn(ratings, my_customer_number, K=50, similarity_metric='pearson')\n",
    "recommendations"
   ]
  }
 ],
 "metadata": {
  "kernelspec": {
   "display_name": "Python 3",
   "language": "python",
   "name": "python3"
  },
  "language_info": {
   "codemirror_mode": {
    "name": "ipython",
    "version": 3
   },
   "file_extension": ".py",
   "mimetype": "text/x-python",
   "name": "python",
   "nbconvert_exporter": "python",
   "pygments_lexer": "ipython3",
   "version": "3.5.1"
  }
 },
 "nbformat": 4,
 "nbformat_minor": 0
}
